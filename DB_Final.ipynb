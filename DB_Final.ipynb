{
 "cells": [
  {
   "cell_type": "code",
   "execution_count": 1,
   "metadata": {},
   "outputs": [
    {
     "data": {
      "text/plain": [
       "'C:\\\\Users\\\\Abhilash Jha\\\\Database Assigment'"
      ]
     },
     "execution_count": 1,
     "metadata": {},
     "output_type": "execute_result"
    }
   ],
   "source": [
    "#Check the current working directory\n",
    "import os\n",
    "import pandas as pd\n",
    "os.getcwd()"
   ]
  },
  {
   "cell_type": "code",
   "execution_count": 2,
   "metadata": {},
   "outputs": [],
   "source": [
    "import sqlite3"
   ]
  },
  {
   "cell_type": "code",
   "execution_count": 3,
   "metadata": {},
   "outputs": [],
   "source": [
    "conn= sqlite3.connect('/Users/Abhilash Jha/BEMM459J.db')"
   ]
  },
  {
   "cell_type": "code",
   "execution_count": 4,
   "metadata": {},
   "outputs": [],
   "source": [
    "# conn.execute(\"PRAGMA foreign_keys= 1\")"
   ]
  },
  {
   "cell_type": "code",
   "execution_count": 5,
   "metadata": {},
   "outputs": [],
   "source": [
    "#Set the cursor \n",
    "cursr=conn.cursor()"
   ]
  },
  {
   "cell_type": "code",
   "execution_count": null,
   "metadata": {},
   "outputs": [],
   "source": []
  },
  {
   "cell_type": "markdown",
   "metadata": {},
   "source": [
    "## Creating the tables and Inserting the Data into tables\n"
   ]
  },
  {
   "cell_type": "markdown",
   "metadata": {},
   "source": [
    "### Payment Table"
   ]
  },
  {
   "cell_type": "code",
   "execution_count": 118,
   "metadata": {},
   "outputs": [
    {
     "data": {
      "text/plain": [
       "<sqlite3.Cursor at 0x1a9b95bbf80>"
      ]
     },
     "execution_count": 118,
     "metadata": {},
     "output_type": "execute_result"
    }
   ],
   "source": [
    "cursr.execute('drop table if exists Payment;')"
   ]
  },
  {
   "cell_type": "code",
   "execution_count": 119,
   "metadata": {},
   "outputs": [
    {
     "data": {
      "text/plain": [
       "<sqlite3.Cursor at 0x1a9b95bbf80>"
      ]
     },
     "execution_count": 119,
     "metadata": {},
     "output_type": "execute_result"
    }
   ],
   "source": [
    "qry ='''\n",
    "CREATE TABLE Payment (\n",
    "payment_id INTEGER PRIMARY KEY,\n",
    "payment_date VARCHAR (12) NOT NULL,\n",
    "payment_method VARCHAR (12) NOT NULL);'''\n",
    "cursr.execute(qry)"
   ]
  },
  {
   "cell_type": "markdown",
   "metadata": {},
   "source": [
    "## Inserting records in the Payment Table"
   ]
  },
  {
   "cell_type": "code",
   "execution_count": 120,
   "metadata": {},
   "outputs": [],
   "source": [
    "data_ins =\"Insert into Payment (Payment_ID, Payment_Date, Payment_Method) VALUES (?,?,?);\" \n",
    "\n",
    "\n",
    "payment= [(1000000001,'01-May-2020','Mobile payment'),\n",
    "          (1000000002,'01-May-2020','Credit Card' ),\n",
    "          (1000000003,'03-May-2020','Credit Card' ),\n",
    "          (1000000004,'04-May-2020','Credit Card' ),\n",
    "          (1000000005,'05-May-2020','Credit Card' ),\n",
    "          (1000000006,'05-May-2020','Credit Card' ),\n",
    "          (1000000007,'03-May-2020','Credit Card' ),\n",
    "          (1000000008,'10-May-2020','Mobile payment' ),\n",
    "          (1000000009,'06-June-2020','Credit Card'),\n",
    "          (1000000010,'03-May-2020','Mobile payment' )]"
   ]
  },
  {
   "cell_type": "code",
   "execution_count": 122,
   "metadata": {},
   "outputs": [],
   "source": [
    "payment = pd.DataFrame(payment,columns=['Payment_ID', 'Payment_Date', 'Payment_Method'])"
   ]
  },
  {
   "cell_type": "code",
   "execution_count": 123,
   "metadata": {},
   "outputs": [],
   "source": [
    "for i in range(len(payment)):\n",
    "    cursr.execute(data_ins,[int(payment['Payment_ID'][i]),payment['Payment_Date'][i],payment['Payment_Method'][i]])\n",
    "    "
   ]
  },
  {
   "cell_type": "code",
   "execution_count": 124,
   "metadata": {},
   "outputs": [
    {
     "data": {
      "text/plain": [
       "[(1000000001, '01-May-2020', 'Mobile payment'),\n",
       " (1000000002, '01-May-2020', 'Credit Card'),\n",
       " (1000000003, '03-May-2020', 'Credit Card'),\n",
       " (1000000004, '04-May-2020', 'Credit Card'),\n",
       " (1000000005, '05-May-2020', 'Credit Card'),\n",
       " (1000000006, '05-May-2020', 'Credit Card'),\n",
       " (1000000007, '03-May-2020', 'Credit Card'),\n",
       " (1000000008, '10-May-2020', 'Mobile payment'),\n",
       " (1000000009, '06-June-2020', 'Credit Card'),\n",
       " (1000000010, '03-May-2020', 'Mobile payment')]"
      ]
     },
     "execution_count": 124,
     "metadata": {},
     "output_type": "execute_result"
    }
   ],
   "source": [
    "cursr.execute('select * from payment').fetchall()"
   ]
  },
  {
   "cell_type": "markdown",
   "metadata": {},
   "source": [
    "## Order Table"
   ]
  },
  {
   "cell_type": "code",
   "execution_count": 132,
   "metadata": {},
   "outputs": [
    {
     "data": {
      "text/plain": [
       "<sqlite3.Cursor at 0x1a9b95bbf80>"
      ]
     },
     "execution_count": 132,
     "metadata": {},
     "output_type": "execute_result"
    }
   ],
   "source": [
    "cursr.execute('drop table if exists Orders;')"
   ]
  },
  {
   "cell_type": "code",
   "execution_count": 133,
   "metadata": {},
   "outputs": [
    {
     "data": {
      "text/plain": [
       "<sqlite3.Cursor at 0x1a9b95bbf80>"
      ]
     },
     "execution_count": 133,
     "metadata": {},
     "output_type": "execute_result"
    }
   ],
   "source": [
    "qry1 ='''CREATE TABLE Orders (\n",
    "order_id INTEGER (10) NOT NULL,\n",
    "customer_id INTEGER (10) NOT NULL,\n",
    "payment_id INTEGER (10) NOT NULL,\n",
    "menu_id INTEGER (10) NOT NULL,\n",
    "feedback_id INTEGER (10) NOT NULL,\n",
    "order_Date VARCHAR (12) NOT NULL,\n",
    "order_qty INTEGER (10),\n",
    "cost float);'''\n",
    "cursr.execute(qry1)"
   ]
  },
  {
   "cell_type": "markdown",
   "metadata": {},
   "source": [
    "## Inserting Data into Order Table"
   ]
  },
  {
   "cell_type": "code",
   "execution_count": 134,
   "metadata": {},
   "outputs": [],
   "source": [
    "data_ins1 =\"Insert into Orders(Order_ID, customer_id, payment_id, menu_id, feedback_id, Order_Date, order_qty, cost) VALUES (?,?,?,?,?,?,?,?);\"\n",
    "\n",
    "Orders =  [\n",
    "          (7000000001, 6000000001,1000000001,22,901,'01-May-2020',2,20),\n",
    "          (7000000002, 6000000002,1000000002,20,902,'01-May-2020',1,10),\n",
    "          (7000000003, 6000000003,1000000003,34,903,'03-May-2020',3,60),\n",
    "          (7000000009, 6000000004,1000000004,29,909,'04-May-2020',4,20),\n",
    "          (7000000004, 6000000009,1000000005,34,904,'05-May-2020',5,100),\n",
    "          (7000000005, 6000000001,1000000006,54,905,'05-May-2020',1,10),\n",
    "          (7000000007, 6000000002,1000000007,33,907,'03-May-2020',4,60), \n",
    "          (7000000008, 6000000008,1000000008,45,908,'04-May-2020',2,10),\n",
    "          (7000000010, 6000000002,1000000009,34,910,'04-May-2020',2,40),\n",
    "          (7000000006, 6000000006,1000000010,22,906,'03-May-2020',1,10)\n",
    "         ]\n"
   ]
  },
  {
   "cell_type": "code",
   "execution_count": 135,
   "metadata": {},
   "outputs": [],
   "source": [
    "Orders = pd.DataFrame(Orders,columns=['Order_ID', 'customer_id', 'payment_id', 'menu_id', 'feedback_id', 'Order_Date', 'order_qty', 'cost'])"
   ]
  },
  {
   "cell_type": "code",
   "execution_count": 136,
   "metadata": {},
   "outputs": [],
   "source": [
    "for i in range(len(Orders)):\n",
    "    cursr.execute(data_ins1,[int(Orders['Order_ID'][i]), int(Orders['customer_id'][i]), int(Orders['payment_id'][i]), int(Orders['menu_id'][i]), int(Orders['feedback_id'][i]),Orders['Order_Date'][i], int(Orders['order_qty'][i]), int(Orders['cost'][i])])"
   ]
  },
  {
   "cell_type": "code",
   "execution_count": 139,
   "metadata": {},
   "outputs": [
    {
     "data": {
      "text/plain": [
       "[(7000000001, 6000000001, 1000000001, 22, 901, '01-May-2020', 2, 20.0),\n",
       " (7000000002, 6000000002, 1000000002, 20, 902, '01-May-2020', 1, 10.0),\n",
       " (7000000003, 6000000003, 1000000003, 34, 903, '03-May-2020', 3, 60.0),\n",
       " (7000000009, 6000000004, 1000000004, 29, 909, '04-May-2020', 4, 20.0),\n",
       " (7000000004, 6000000009, 1000000005, 34, 904, '05-May-2020', 5, 100.0),\n",
       " (7000000005, 6000000001, 1000000006, 54, 905, '05-May-2020', 1, 10.0),\n",
       " (7000000007, 6000000002, 1000000007, 33, 907, '03-May-2020', 4, 60.0),\n",
       " (7000000008, 6000000008, 1000000008, 45, 908, '04-May-2020', 2, 10.0),\n",
       " (7000000010, 6000000002, 1000000009, 34, 910, '04-May-2020', 2, 40.0),\n",
       " (7000000006, 6000000006, 1000000010, 22, 906, '03-May-2020', 1, 10.0)]"
      ]
     },
     "execution_count": 139,
     "metadata": {},
     "output_type": "execute_result"
    }
   ],
   "source": [
    "cursr.execute('select * from Orders;').fetchall()"
   ]
  },
  {
   "cell_type": "markdown",
   "metadata": {},
   "source": [
    "### Customer Table"
   ]
  },
  {
   "cell_type": "code",
   "execution_count": 259,
   "metadata": {},
   "outputs": [
    {
     "data": {
      "text/plain": [
       "<sqlite3.Cursor at 0x1a9b95bbf80>"
      ]
     },
     "execution_count": 259,
     "metadata": {},
     "output_type": "execute_result"
    }
   ],
   "source": [
    "cursr.execute('drop table if exists Customer;')"
   ]
  },
  {
   "cell_type": "code",
   "execution_count": 260,
   "metadata": {},
   "outputs": [
    {
     "data": {
      "text/plain": [
       "<sqlite3.Cursor at 0x1a9b95bbf80>"
      ]
     },
     "execution_count": 260,
     "metadata": {},
     "output_type": "execute_result"
    }
   ],
   "source": [
    "qry2 = '''CREATE TABLE Customer (\n",
    "Customer_ID INTEGER (10) NOT NULL,\n",
    "Firstname VARCHAR (30) NOT NULL,\n",
    "Lastname VARCHAR (30),\n",
    "Email VARCHAR (30) NOT NULL,\n",
    "Gender Varchar (10) NOT NULL,\n",
    "Address Varchar (50) NOT NULL,\n",
    "Postcode Varchar (50) NOT NULL,\n",
    "Town Varchar (100),\n",
    "State Varchar (100),\n",
    "Status Boolean (1)); '''\n",
    "cursr.execute(qry2)"
   ]
  },
  {
   "cell_type": "markdown",
   "metadata": {},
   "source": [
    "### Inserting Data into the Customer Table"
   ]
  },
  {
   "cell_type": "code",
   "execution_count": 261,
   "metadata": {},
   "outputs": [],
   "source": [
    "data_ins2 =\"Insert into Customer(Customer_ID, Lastname, Firstname, Email, Gender, Address, Postcode, Town, State, Status) VALUES (?,?,?,?,?,?,?,?,?,?);\"\n",
    "\n",
    "Customer =  [(6000000001,'Randolph','Fitzgerald H.','enim.nec@elit.ca', 'M', '481-3524 Donec Av.', '481-3524', 'Estevan','SK','ACTIVE'),\n",
    "          (6000000002,'Underwood','Nehru B.','sem@nisi.ca', 'M', 'P.O. Box 194, 9109 Nascetur St.', '194-9109', 'Kırıkhan','Hatay','ACTIVE'),\n",
    "          (6000000003,'Ray','Yael U.','in@parturientmontesnascetur.co.uk', 'M', '8886 Nam Av.', '431-4534', 'Neudörfl','Bgl','ACTIVE'),\n",
    "          (6000000004,'Mejia',' Barry R.','In.ornare@etipsum.co.uk', 'M', '636-448 Auctor St.', '636-448', 'Qambar Shahdadkot','Sindh','ACTIVE'),\n",
    "          (6000000009,'Chapman','Lois P.2','elit.Aliquam.auctor@erateget.ca', 'M', '544-8399 Quam. St.', '544-8399', 'Besançon','Franche-Comté','ACTIVE'),\n",
    "          (6000000005,'Brennan',' Skyler B.','aliquet.sem.ut@blandit.org', 'M', '898-7841 Turpis. St.', '898-7841', 'Lauro de Freitas','Bahia','ACTIVE'),\n",
    "          (6000000007,'Hobbs','Imani F.','molestie.dapibus.ligula@necleoMorbi.ca', 'M', '8606 Est Rd.', '766-4433', 'Laramie','Wyoming','ACTIVE'), \n",
    "          (6000000008,'Espinoza','Tad B.','suscipit.est@idrisus.ca', 'M', '731-2824 Nunc Rd.', '731-2824', 'Terneuzen','Zeeland','ACTIVE'),\n",
    "           (6000000010,'Walton',' Martena M.','gravida.sit.amet@loremluctusut.org', 'M', 'P.O. Box 549-3460 Aliquam Rd.', '549-3460', 'Saltillo','Coahuila','ACTIVE'),\n",
    "           (6000000006, 'Battle','  Preston X.','taciti@diamdictumsapien.net', 'M', 'Ap #762-8642 Bibendum Av.', '549-3460', 'Bremerhaven','HB','ACTIVE')\n",
    "         ]"
   ]
  },
  {
   "cell_type": "markdown",
   "metadata": {},
   "source": [
    "### Performing the Read Operation"
   ]
  },
  {
   "cell_type": "code",
   "execution_count": 262,
   "metadata": {},
   "outputs": [],
   "source": [
    "Customer = pd.DataFrame(Customer,columns=['Customer_ID', 'Lastname','Firstname', 'Email', 'Gender', 'Address', 'Postcode','Town','State','Status'])"
   ]
  },
  {
   "cell_type": "code",
   "execution_count": 263,
   "metadata": {},
   "outputs": [],
   "source": [
    "for i in range(len(Customer)):\n",
    "    cursr.execute(data_ins2,[int(Customer['Customer_ID'][i]), Customer['Lastname'][i], Customer['Firstname'][i],Customer['Email'][i], Customer['Gender'][i], Customer['Address'][i], Customer['Postcode'][i], Customer['Town'][i], Customer['State'][i], Customer['Status'][i]])"
   ]
  },
  {
   "cell_type": "code",
   "execution_count": 255,
   "metadata": {
    "scrolled": true
   },
   "outputs": [
    {
     "data": {
      "text/plain": [
       "[(6000000001,\n",
       "  'Fitzgerald H.',\n",
       "  'Randolph',\n",
       "  'enim.nec@elit.ca',\n",
       "  'M',\n",
       "  '481-3524 Donec Av.',\n",
       "  '481-3524',\n",
       "  'Estevan',\n",
       "  'SK',\n",
       "  'ACTIVE'),\n",
       " (6000000002,\n",
       "  'Nehru B.',\n",
       "  'Underwood',\n",
       "  'sem@nisi.ca',\n",
       "  'M',\n",
       "  'P.O. Box 194, 9109 Nascetur St.',\n",
       "  '194-9109',\n",
       "  'Kırıkhan',\n",
       "  'Hatay',\n",
       "  'ACTIVE'),\n",
       " (6000000003,\n",
       "  'Yael U.',\n",
       "  'Ray',\n",
       "  'in@parturientmontesnascetur.co.uk',\n",
       "  'M',\n",
       "  '8886 Nam Av.',\n",
       "  '431-4534',\n",
       "  'Neudörfl',\n",
       "  'Bgl',\n",
       "  'ACTIVE'),\n",
       " (6000000004,\n",
       "  ' Barry R.',\n",
       "  'Mejia',\n",
       "  'In.ornare@etipsum.co.uk',\n",
       "  'M',\n",
       "  '636-448 Auctor St.',\n",
       "  '636-448',\n",
       "  'Qambar Shahdadkot',\n",
       "  'Sindh',\n",
       "  'ACTIVE'),\n",
       " (6000000009,\n",
       "  'Lois P.2',\n",
       "  'Chapman',\n",
       "  'elit.Aliquam.auctor@erateget.ca',\n",
       "  'M',\n",
       "  '544-8399 Quam. St.',\n",
       "  '544-8399',\n",
       "  'Besançon',\n",
       "  'Franche-Comté',\n",
       "  'ACTIVE'),\n",
       " (6000000005,\n",
       "  ' Skyler B.',\n",
       "  'Brennan',\n",
       "  'aliquet.sem.ut@blandit.org',\n",
       "  'M',\n",
       "  '898-7841 Turpis. St.',\n",
       "  '898-7841',\n",
       "  'Lauro de Freitas',\n",
       "  'Bahia',\n",
       "  'ACTIVE'),\n",
       " (6000000007,\n",
       "  'Imani F.',\n",
       "  'Hobbs',\n",
       "  'molestie.dapibus.ligula@necleoMorbi.ca',\n",
       "  'M',\n",
       "  '8606 Est Rd.',\n",
       "  '766-4433',\n",
       "  'Laramie',\n",
       "  'Wyoming',\n",
       "  'ACTIVE'),\n",
       " (6000000008,\n",
       "  'Tad B.',\n",
       "  'Espinoza',\n",
       "  'suscipit.est@idrisus.ca',\n",
       "  'M',\n",
       "  '731-2824 Nunc Rd.',\n",
       "  '731-2824',\n",
       "  'Terneuzen',\n",
       "  'Zeeland',\n",
       "  'ACTIVE'),\n",
       " (6000000010,\n",
       "  ' Martena M.',\n",
       "  'Walton',\n",
       "  'gravida.sit.amet@loremluctusut.org',\n",
       "  'M',\n",
       "  'P.O. Box 549-3460 Aliquam Rd.',\n",
       "  '549-3460',\n",
       "  'Saltillo',\n",
       "  'Coahuila',\n",
       "  'ACTIVE'),\n",
       " (6000000006,\n",
       "  '  Preston X.',\n",
       "  'Battle',\n",
       "  'taciti@diamdictumsapien.net',\n",
       "  'M',\n",
       "  'Ap #762-8642 Bibendum Av.',\n",
       "  '549-3460',\n",
       "  'Bremerhaven',\n",
       "  'HB',\n",
       "  'ACTIVE')]"
      ]
     },
     "execution_count": 255,
     "metadata": {},
     "output_type": "execute_result"
    }
   ],
   "source": [
    "cursr.execute('select * from Customer ;').fetchall()"
   ]
  },
  {
   "cell_type": "code",
   "execution_count": null,
   "metadata": {},
   "outputs": [],
   "source": []
  },
  {
   "cell_type": "markdown",
   "metadata": {},
   "source": [
    "### Feedback Table"
   ]
  },
  {
   "cell_type": "code",
   "execution_count": 106,
   "metadata": {},
   "outputs": [
    {
     "data": {
      "text/plain": [
       "<sqlite3.Cursor at 0x1a9b95bbf80>"
      ]
     },
     "execution_count": 106,
     "metadata": {},
     "output_type": "execute_result"
    }
   ],
   "source": [
    "cursr.execute('drop table if exists feedback;')"
   ]
  },
  {
   "cell_type": "code",
   "execution_count": 107,
   "metadata": {},
   "outputs": [
    {
     "data": {
      "text/plain": [
       "<sqlite3.Cursor at 0x1a9b95bbf80>"
      ]
     },
     "execution_count": 107,
     "metadata": {},
     "output_type": "execute_result"
    }
   ],
   "source": [
    "qry3 = '''CREATE TABLE feedback (\n",
    "feedback_id INTEGER (10) NOT NULL,\n",
    "text varchar(100));'''\n",
    "cursr.execute(qry3)"
   ]
  },
  {
   "cell_type": "markdown",
   "metadata": {},
   "source": [
    "### Inserting data into the Feedback table"
   ]
  },
  {
   "cell_type": "code",
   "execution_count": 108,
   "metadata": {},
   "outputs": [],
   "source": [
    "data_ins3 =\"Insert into feedback (feedback_id, text) VALUES (?,?);\"\n",
    "\n",
    "fb =  [\n",
    "          (901, 'Good'),\n",
    "          (902, 'Good'),\n",
    "          (903, 'Bad'),\n",
    "          (909, 'Good'),\n",
    "          (904, 'Good'),\n",
    "          (905, 'Good'),\n",
    "          (907, 'Good'), \n",
    "          (908, 'Good'),\n",
    "          (910, 'Bad'),\n",
    "          (906, 'Good') \n",
    "          ]"
   ]
  },
  {
   "cell_type": "code",
   "execution_count": 109,
   "metadata": {},
   "outputs": [],
   "source": [
    "fb = pd.DataFrame(fb,columns=['feedback_id', 'text'])"
   ]
  },
  {
   "cell_type": "markdown",
   "metadata": {},
   "source": [
    "### Performing the Read Operation"
   ]
  },
  {
   "cell_type": "code",
   "execution_count": 110,
   "metadata": {},
   "outputs": [],
   "source": [
    "for i in range(len(fb)):\n",
    "    cursr.execute(data_ins3,[int(fb['feedback_id'][i]), fb['text'][i]])"
   ]
  },
  {
   "cell_type": "code",
   "execution_count": 111,
   "metadata": {},
   "outputs": [
    {
     "data": {
      "text/plain": [
       "[(901, 'Good'),\n",
       " (902, 'Good'),\n",
       " (903, 'Bad'),\n",
       " (909, 'Good'),\n",
       " (904, 'Good'),\n",
       " (905, 'Good'),\n",
       " (907, 'Good'),\n",
       " (908, 'Good'),\n",
       " (910, 'Bad'),\n",
       " (906, 'Good')]"
      ]
     },
     "execution_count": 111,
     "metadata": {},
     "output_type": "execute_result"
    }
   ],
   "source": [
    "cursr.execute('select * from feedback;').fetchall()"
   ]
  },
  {
   "cell_type": "markdown",
   "metadata": {},
   "source": [
    "### Menu Table"
   ]
  },
  {
   "cell_type": "code",
   "execution_count": 195,
   "metadata": {},
   "outputs": [
    {
     "data": {
      "text/plain": [
       "<sqlite3.Cursor at 0x1a9b95bbf80>"
      ]
     },
     "execution_count": 195,
     "metadata": {},
     "output_type": "execute_result"
    }
   ],
   "source": [
    "cursr.execute('drop table if exists Menu;')"
   ]
  },
  {
   "cell_type": "code",
   "execution_count": 196,
   "metadata": {
    "scrolled": true
   },
   "outputs": [
    {
     "data": {
      "text/plain": [
       "<sqlite3.Cursor at 0x1a9b95bbf80>"
      ]
     },
     "execution_count": 196,
     "metadata": {},
     "output_type": "execute_result"
    }
   ],
   "source": [
    "qry4 = ''' CREATE TABLE Menu (\n",
    "Menu_ID INTEGER (10) NOT NULL,\n",
    "Menu_Name Varchar (50) NOT NULL,\n",
    "Category INTEGER (10) NOT NULL,\n",
    "Price INTEGER (10) NOT NULL,\n",
    "Status Varchar (50)); '''\n",
    "cursr.execute(qry4)"
   ]
  },
  {
   "cell_type": "markdown",
   "metadata": {},
   "source": [
    "### Inserting data into the Menu Table"
   ]
  },
  {
   "cell_type": "code",
   "execution_count": 197,
   "metadata": {},
   "outputs": [],
   "source": [
    "data_ins4 = \"Insert into Menu ( Menu_ID, Menu_Name, Category, Price, Status) VALUES (?,?,?,?,?);\"\n",
    "\n",
    "Menu =  [(  22,' Pizza_marg' ,'MAINS', 10, 'Available'),\n",
    "          ( 20,' Pizza_cheese', 'MAINS', 10, 'Available'),\n",
    "          ( 34,'Chicken Burger and Coke ','SIDES', 20,'Available'),\n",
    "          ( 29,'Chicken Nuggets', 'SIDES', 5, 'Available'),\n",
    "          ( 54, 'Pizza_veg','MAINS', 10, 'Available'),\n",
    "          ( 45, 'Fries','SIDES', 5, 'Available'),\n",
    "          ( 33,'Garlic bread' ,'SIDES', 15, 'Available'),\n",
    "          ( 38,'Chicken wings' ,'SIDES', 20, 'Unavailable'),\n",
    "          ( 48,'Pizza tomato' ,'MAINS', 15, 'Available'),\n",
    "          ( 21,'Coke' ,'DRINKS', 5, 'Available'),\n",
    "          ( 18,'Pizza mushroom' ,'MAINS', 15, 'Available'),\n",
    "          ( 24,'Lemonade' ,'DRINKS', 5, 'Available')\n",
    "          ]"
   ]
  },
  {
   "cell_type": "code",
   "execution_count": 198,
   "metadata": {},
   "outputs": [],
   "source": [
    "Menu = pd.DataFrame(Menu,columns=['Menu_ID', 'Menu_Name', 'Category', 'Price', 'Status'])"
   ]
  },
  {
   "cell_type": "markdown",
   "metadata": {},
   "source": [
    "### Performing the Read Operation\n"
   ]
  },
  {
   "cell_type": "code",
   "execution_count": 199,
   "metadata": {},
   "outputs": [],
   "source": [
    "for i in range(len(Menu)):\n",
    "    cursr.execute(data_ins4,[int(Menu['Menu_ID'][i]), Menu['Menu_Name'][i], Menu['Category'][i],int(Menu['Price'][i]), Menu['Status'][i]])"
   ]
  },
  {
   "cell_type": "code",
   "execution_count": 200,
   "metadata": {},
   "outputs": [
    {
     "data": {
      "text/plain": [
       "[(22, ' Pizza_marg', 'MAINS', 10, 'Available'),\n",
       " (20, ' Pizza_cheese', 'MAINS', 10, 'Available'),\n",
       " (34, 'Chicken Burger and Coke ', 'SIDES', 20, 'Available'),\n",
       " (29, 'Chicken Nuggets', 'SIDES', 5, 'Available'),\n",
       " (54, 'Pizza_veg', 'MAINS', 10, 'Available'),\n",
       " (45, 'Fries', 'SIDES', 5, 'Available'),\n",
       " (33, 'Garlic bread', 'SIDES', 15, 'Available'),\n",
       " (38, 'Chicken wings', 'SIDES', 20, 'Unavailable'),\n",
       " (48, 'Pizza tomato', 'MAINS', 15, 'Available'),\n",
       " (21, 'Coke', 'DRINKS', 5, 'Available'),\n",
       " (18, 'Pizza mushroom', 'MAINS', 15, 'Available'),\n",
       " (24, 'Lemonade', 'DRINKS', 5, 'Available')]"
      ]
     },
     "execution_count": 200,
     "metadata": {},
     "output_type": "execute_result"
    }
   ],
   "source": [
    "cursr.execute('select * from Menu ;').fetchall()"
   ]
  },
  {
   "cell_type": "code",
   "execution_count": null,
   "metadata": {},
   "outputs": [],
   "source": []
  },
  {
   "cell_type": "markdown",
   "metadata": {},
   "source": [
    "#### Mean while the Fast Food delivery Limited thought of increasing the price of the MAINS by 20% and 10% on items other than MAINS from next month as the demand goes high"
   ]
  },
  {
   "cell_type": "markdown",
   "metadata": {},
   "source": [
    "### Hence performing the CRUD operation"
   ]
  },
  {
   "cell_type": "markdown",
   "metadata": {},
   "source": [
    "Update operation for updating the price of the menu Items"
   ]
  },
  {
   "cell_type": "code",
   "execution_count": 201,
   "metadata": {},
   "outputs": [
    {
     "data": {
      "text/plain": [
       "[(22, ' Pizza_marg', 'MAINS', 10, 'Available'),\n",
       " (20, ' Pizza_cheese', 'MAINS', 10, 'Available'),\n",
       " (34, 'Chicken Burger and Coke ', 'SIDES', 20, 'Available'),\n",
       " (29, 'Chicken Nuggets', 'SIDES', 5, 'Available'),\n",
       " (54, 'Pizza_veg', 'MAINS', 10, 'Available'),\n",
       " (45, 'Fries', 'SIDES', 5, 'Available'),\n",
       " (33, 'Garlic bread', 'SIDES', 15, 'Available'),\n",
       " (38, 'Chicken wings', 'SIDES', 20, 'Unavailable'),\n",
       " (48, 'Pizza tomato', 'MAINS', 15, 'Available'),\n",
       " (21, 'Coke', 'DRINKS', 5, 'Available'),\n",
       " (18, 'Pizza mushroom', 'MAINS', 15, 'Available'),\n",
       " (24, 'Lemonade', 'DRINKS', 5, 'Available')]"
      ]
     },
     "execution_count": 201,
     "metadata": {},
     "output_type": "execute_result"
    }
   ],
   "source": [
    "cursr.execute('select * from menu').fetchall()"
   ]
  },
  {
   "cell_type": "code",
   "execution_count": 202,
   "metadata": {},
   "outputs": [
    {
     "data": {
      "text/plain": [
       "<sqlite3.Cursor at 0x1a9b95bbf80>"
      ]
     },
     "execution_count": 202,
     "metadata": {},
     "output_type": "execute_result"
    }
   ],
   "source": [
    "mains = 'update menu set price = price+price*0.2 where Category=\"MAINS\"'\n",
    "cursr.execute(mains)"
   ]
  },
  {
   "cell_type": "code",
   "execution_count": 203,
   "metadata": {},
   "outputs": [
    {
     "data": {
      "text/plain": [
       "<sqlite3.Cursor at 0x1a9b95bbf80>"
      ]
     },
     "execution_count": 203,
     "metadata": {},
     "output_type": "execute_result"
    }
   ],
   "source": [
    "mains = 'update menu set price = price+price*0.1 where Category!=\"MAINS\"'\n",
    "cursr.execute(mains)"
   ]
  },
  {
   "cell_type": "code",
   "execution_count": 222,
   "metadata": {},
   "outputs": [
    {
     "data": {
      "text/plain": [
       "[(22, ' Pizza_marg', 'MAINS', 12, 'Available'),\n",
       " (20, ' Pizza_cheese', 'MAINS', 12, 'Available'),\n",
       " (34, 'Chicken Burger and Coke ', 'SIDES', 22, 'Available'),\n",
       " (29, 'Chicken Nuggets', 'SIDES', 5.5, 'Available'),\n",
       " (54, 'Pizza_veg', 'MAINS', 12, 'Available'),\n",
       " (45, 'Fries', 'SIDES', 5.5, 'Available'),\n",
       " (33, 'Garlic bread', 'SIDES', 16.5, 'Available'),\n",
       " (38, 'Chicken wings', 'SIDES', 22, 'Unavailable'),\n",
       " (48, 'Pizza tomato', 'MAINS', 18, 'Available'),\n",
       " (21, 'Coke', 'DRINKS', 5.5, 'Available'),\n",
       " (18, 'Pizza mushroom', 'MAINS', 18, 'Available'),\n",
       " (24, 'Lemonade', 'DRINKS', 5.5, 'Available')]"
      ]
     },
     "execution_count": 222,
     "metadata": {},
     "output_type": "execute_result"
    }
   ],
   "source": [
    "cursr.execute('select * from menu').fetchall()"
   ]
  },
  {
   "cell_type": "code",
   "execution_count": 205,
   "metadata": {},
   "outputs": [],
   "source": [
    "# # Chaning the menu status \n",
    "# m_id = ['2912311','2145672']\n",
    "# for i in range(len(m_id)):\n",
    "#     food = 'update menu set status=\"Unavailable\" where menu_id=\"'+m_id[i]+'\";'\n",
    "#     cursr.execute(food)\n"
   ]
  },
  {
   "cell_type": "code",
   "execution_count": 206,
   "metadata": {},
   "outputs": [],
   "source": [
    "# cursr.execute('select * from menu').fetchall()"
   ]
  },
  {
   "cell_type": "markdown",
   "metadata": {},
   "source": [
    "### Delete operation where customer didn't ordered for long time and became inactive"
   ]
  },
  {
   "cell_type": "code",
   "execution_count": 154,
   "metadata": {},
   "outputs": [
    {
     "data": {
      "text/plain": [
       "[(6000000001,\n",
       "  'Fitzgerald H.',\n",
       "  'Randolph',\n",
       "  'enim.nec@elit.ca',\n",
       "  'M',\n",
       "  '481-3524 Donec Av.',\n",
       "  '481-3524',\n",
       "  'Estevan',\n",
       "  'SK',\n",
       "  'ACTIVE'),\n",
       " (6000000002,\n",
       "  'Nehru B.',\n",
       "  'Underwood',\n",
       "  'sem@nisi.ca',\n",
       "  'M',\n",
       "  'P.O. Box 194, 9109 Nascetur St.',\n",
       "  '194-9109',\n",
       "  'Kırıkhan',\n",
       "  'Hatay',\n",
       "  'ACTIVE'),\n",
       " (6000000003,\n",
       "  'Yael U.',\n",
       "  'Ray',\n",
       "  'in@parturientmontesnascetur.co.uk',\n",
       "  'M',\n",
       "  '8886 Nam Av.',\n",
       "  '431-4534',\n",
       "  'Neudörfl',\n",
       "  'Bgl',\n",
       "  'ACTIVE'),\n",
       " (6000000004,\n",
       "  ' Barry R.',\n",
       "  'Mejia',\n",
       "  'In.ornare@etipsum.co.uk',\n",
       "  'M',\n",
       "  '636-448 Auctor St.',\n",
       "  '636-448',\n",
       "  'Qambar Shahdadkot',\n",
       "  'Sindh',\n",
       "  'ACTIVE'),\n",
       " (6000000009,\n",
       "  'Lois P.2',\n",
       "  'Chapman',\n",
       "  'elit.Aliquam.auctor@erateget.ca',\n",
       "  'M',\n",
       "  '544-8399 Quam. St.',\n",
       "  '544-8399',\n",
       "  'Besançon',\n",
       "  'Franche-Comté',\n",
       "  'ACTIVE'),\n",
       " (6000000007,\n",
       "  'Imani F.',\n",
       "  'Hobbs',\n",
       "  'molestie.dapibus.ligula@necleoMorbi.ca',\n",
       "  'M',\n",
       "  '8606 Est Rd.',\n",
       "  '766-4433',\n",
       "  'Laramie',\n",
       "  'Wyoming',\n",
       "  'ACTIVE'),\n",
       " (6000000008,\n",
       "  'Tad B.',\n",
       "  'Espinoza',\n",
       "  'suscipit.est@idrisus.ca',\n",
       "  'M',\n",
       "  '731-2824 Nunc Rd.',\n",
       "  '731-2824',\n",
       "  'Terneuzen',\n",
       "  'Zeeland',\n",
       "  'ACTIVE'),\n",
       " (6000000010,\n",
       "  ' Martena M.',\n",
       "  'Walton',\n",
       "  'gravida.sit.amet@loremluctusut.org',\n",
       "  'M',\n",
       "  'P.O. Box 549-3460 Aliquam Rd.',\n",
       "  '549-3460',\n",
       "  'Saltillo',\n",
       "  'Coahuila',\n",
       "  'ACTIVE'),\n",
       " (6000000006,\n",
       "  '  Preston X.',\n",
       "  'Battle',\n",
       "  'taciti@diamdictumsapien.net',\n",
       "  'M',\n",
       "  'Ap #762-8642 Bibendum Av.',\n",
       "  '549-3460',\n",
       "  'Bremerhaven',\n",
       "  'HB',\n",
       "  'ACTIVE')]"
      ]
     },
     "execution_count": 154,
     "metadata": {},
     "output_type": "execute_result"
    }
   ],
   "source": [
    "cust_id='6000000005'\n",
    "\n",
    "in_active = 'delete from Customer where Customer_ID=\"'+cust_id+'\";'\n",
    "cursr.execute(in_active)\n",
    "cursr.execute('select * from Customer;').fetchall()"
   ]
  },
  {
   "cell_type": "code",
   "execution_count": null,
   "metadata": {},
   "outputs": [],
   "source": [
    "# Above table now doesnot contain the inactive customer now."
   ]
  },
  {
   "cell_type": "markdown",
   "metadata": {},
   "source": [
    "## Performing No SQL Redis"
   ]
  },
  {
   "cell_type": "code",
   "execution_count": 223,
   "metadata": {},
   "outputs": [
    {
     "name": "stdout",
     "output_type": "stream",
     "text": [
      "True\n"
     ]
    }
   ],
   "source": [
    "import redis\n",
    "r= redis.Redis(host='localhost', port=6379, db=4) #USE the Database number 5\n",
    "print(r.ping())"
   ]
  },
  {
   "cell_type": "code",
   "execution_count": 224,
   "metadata": {},
   "outputs": [
    {
     "data": {
      "text/plain": [
       "[(22, ' Pizza_marg', 'MAINS', 12, 'Available'),\n",
       " (20, ' Pizza_cheese', 'MAINS', 12, 'Available'),\n",
       " (34, 'Chicken Burger and Coke ', 'SIDES', 22, 'Available'),\n",
       " (29, 'Chicken Nuggets', 'SIDES', 5.5, 'Available'),\n",
       " (54, 'Pizza_veg', 'MAINS', 12, 'Available'),\n",
       " (45, 'Fries', 'SIDES', 5.5, 'Available'),\n",
       " (33, 'Garlic bread', 'SIDES', 16.5, 'Available'),\n",
       " (48, 'Pizza tomato', 'MAINS', 18, 'Available'),\n",
       " (21, 'Coke', 'DRINKS', 5.5, 'Available'),\n",
       " (18, 'Pizza mushroom', 'MAINS', 18, 'Available'),\n",
       " (24, 'Lemonade', 'DRINKS', 5.5, 'Available')]"
      ]
     },
     "execution_count": 224,
     "metadata": {},
     "output_type": "execute_result"
    }
   ],
   "source": [
    "mn = 'select * from menu where status=\"Available\"'\n",
    "mn = cursr.execute(mn).fetchall()\n",
    "mn"
   ]
  },
  {
   "cell_type": "code",
   "execution_count": 209,
   "metadata": {},
   "outputs": [],
   "source": [
    "# mn_r['Menu_ID'].astype(str)+'_'+mn_r['Category']"
   ]
  },
  {
   "cell_type": "code",
   "execution_count": 231,
   "metadata": {},
   "outputs": [
    {
     "data": {
      "text/plain": [
       "dict_values([{'Menu_ID': 22, 'Menu_Name': ' Pizza_marg', 'Category': 'MAINS', 'Price': 12.0, 'Status': 'Available'}, {'Menu_ID': 20, 'Menu_Name': ' Pizza_cheese', 'Category': 'MAINS', 'Price': 12.0, 'Status': 'Available'}, {'Menu_ID': 34, 'Menu_Name': 'Chicken Burger and Coke ', 'Category': 'SIDES', 'Price': 22.0, 'Status': 'Available'}, {'Menu_ID': 29, 'Menu_Name': 'Chicken Nuggets', 'Category': 'SIDES', 'Price': 5.5, 'Status': 'Available'}, {'Menu_ID': 54, 'Menu_Name': 'Pizza_veg', 'Category': 'MAINS', 'Price': 12.0, 'Status': 'Available'}, {'Menu_ID': 45, 'Menu_Name': 'Fries', 'Category': 'SIDES', 'Price': 5.5, 'Status': 'Available'}, {'Menu_ID': 33, 'Menu_Name': 'Garlic bread', 'Category': 'SIDES', 'Price': 16.5, 'Status': 'Available'}, {'Menu_ID': 48, 'Menu_Name': 'Pizza tomato', 'Category': 'MAINS', 'Price': 18.0, 'Status': 'Available'}, {'Menu_ID': 21, 'Menu_Name': 'Coke', 'Category': 'DRINKS', 'Price': 5.5, 'Status': 'Available'}, {'Menu_ID': 18, 'Menu_Name': 'Pizza mushroom', 'Category': 'MAINS', 'Price': 18.0, 'Status': 'Available'}, {'Menu_ID': 24, 'Menu_Name': 'Lemonade', 'Category': 'DRINKS', 'Price': 5.5, 'Status': 'Available'}])"
      ]
     },
     "execution_count": 231,
     "metadata": {},
     "output_type": "execute_result"
    }
   ],
   "source": [
    "mn_r = pd.DataFrame(mn,columns=['Menu_ID', 'Menu_Name', 'Category', 'Price', 'Status'])\n",
    "mn_r['menu_index'] = mn_r['Menu_ID']#.astype(str)+'_'+mn_r['Category']#mn_r['Menu_ID']#+':'+mn_r['Category']\n",
    "mn_r = mn_r.set_index('menu_index')\n",
    "mn_r = mn_r.to_dict('index')\n",
    "mn_r.values()"
   ]
  },
  {
   "cell_type": "code",
   "execution_count": 232,
   "metadata": {},
   "outputs": [],
   "source": [
    "# asbhdk"
   ]
  },
  {
   "cell_type": "code",
   "execution_count": 233,
   "metadata": {},
   "outputs": [
    {
     "name": "stdout",
     "output_type": "stream",
     "text": [
      "Menu ID: 22 Category: {'Menu_ID': 22, 'Menu_Name': ' Pizza_marg', 'Category': 'MAINS', 'Price': 12.0, 'Status': 'Available'}\n",
      "Menu ID: 20 Category: {'Menu_ID': 20, 'Menu_Name': ' Pizza_cheese', 'Category': 'MAINS', 'Price': 12.0, 'Status': 'Available'}\n",
      "Menu ID: 34 Category: {'Menu_ID': 34, 'Menu_Name': 'Chicken Burger and Coke ', 'Category': 'SIDES', 'Price': 22.0, 'Status': 'Available'}\n",
      "Menu ID: 29 Category: {'Menu_ID': 29, 'Menu_Name': 'Chicken Nuggets', 'Category': 'SIDES', 'Price': 5.5, 'Status': 'Available'}\n",
      "Menu ID: 54 Category: {'Menu_ID': 54, 'Menu_Name': 'Pizza_veg', 'Category': 'MAINS', 'Price': 12.0, 'Status': 'Available'}\n",
      "Menu ID: 45 Category: {'Menu_ID': 45, 'Menu_Name': 'Fries', 'Category': 'SIDES', 'Price': 5.5, 'Status': 'Available'}\n",
      "Menu ID: 33 Category: {'Menu_ID': 33, 'Menu_Name': 'Garlic bread', 'Category': 'SIDES', 'Price': 16.5, 'Status': 'Available'}\n",
      "Menu ID: 48 Category: {'Menu_ID': 48, 'Menu_Name': 'Pizza tomato', 'Category': 'MAINS', 'Price': 18.0, 'Status': 'Available'}\n",
      "Menu ID: 21 Category: {'Menu_ID': 21, 'Menu_Name': 'Coke', 'Category': 'DRINKS', 'Price': 5.5, 'Status': 'Available'}\n",
      "Menu ID: 18 Category: {'Menu_ID': 18, 'Menu_Name': 'Pizza mushroom', 'Category': 'MAINS', 'Price': 18.0, 'Status': 'Available'}\n",
      "Menu ID: 24 Category: {'Menu_ID': 24, 'Menu_Name': 'Lemonade', 'Category': 'DRINKS', 'Price': 5.5, 'Status': 'Available'}\n"
     ]
    },
    {
     "name": "stderr",
     "output_type": "stream",
     "text": [
      "<ipython-input-233-58d2d901eae0>:7: DeprecationWarning: Pipeline.hmset() is deprecated. Use Pipeline.hset() instead.\n",
      "  pipe.hmset(Menu_ID, Category)\n"
     ]
    }
   ],
   "source": [
    "## we have two values in DF.items\n",
    "## therefore we have defined two variables \n",
    "## Also, there are multiple keys in items thats why we used mset for hash keys.\n",
    "\n",
    "with r.pipeline() as pipe:\n",
    "    for Menu_ID,Category in mn_r.items():\n",
    "        pipe.hmset(Menu_ID, Category)\n",
    "        print(\"Menu ID:\", Menu_ID,\"Category:\",Category)\n",
    "    pipe.execute()\n",
    "    "
   ]
  },
  {
   "cell_type": "code",
   "execution_count": 234,
   "metadata": {},
   "outputs": [
    {
     "data": {
      "text/plain": [
       "True"
      ]
     },
     "execution_count": 234,
     "metadata": {},
     "output_type": "execute_result"
    }
   ],
   "source": [
    "r.bgsave()"
   ]
  },
  {
   "cell_type": "code",
   "execution_count": 215,
   "metadata": {},
   "outputs": [],
   "source": [
    "# r.flushdb"
   ]
  },
  {
   "cell_type": "code",
   "execution_count": 235,
   "metadata": {},
   "outputs": [
    {
     "data": {
      "text/plain": [
       "[b'21', b'29', b'34', b'48', b'22', b'18', b'45', b'54', b'24', b'33', b'20']"
      ]
     },
     "execution_count": 235,
     "metadata": {},
     "output_type": "execute_result"
    }
   ],
   "source": [
    "r.keys()"
   ]
  },
  {
   "cell_type": "markdown",
   "metadata": {},
   "source": [
    "### Read the data in Redis "
   ]
  },
  {
   "cell_type": "code",
   "execution_count": 236,
   "metadata": {
    "scrolled": true
   },
   "outputs": [
    {
     "data": {
      "text/plain": [
       "{b'Menu_ID': b'18',\n",
       " b'Menu_Name': b'Pizza mushroom',\n",
       " b'Category': b'MAINS',\n",
       " b'Price': b'18.0',\n",
       " b'Status': b'Available'}"
      ]
     },
     "execution_count": 236,
     "metadata": {},
     "output_type": "execute_result"
    }
   ],
   "source": [
    "r.hgetall('18')"
   ]
  },
  {
   "cell_type": "markdown",
   "metadata": {},
   "source": [
    "### Updation Operation in Redis"
   ]
  },
  {
   "cell_type": "code",
   "execution_count": 237,
   "metadata": {},
   "outputs": [
    {
     "data": {
      "text/plain": [
       "0"
      ]
     },
     "execution_count": 237,
     "metadata": {},
     "output_type": "execute_result"
    }
   ],
   "source": [
    "menu_change_id = 18\n",
    "r.hset(menu_change_id,\"Status\", \"Unavailable\") #changing/Updating the status of the menu item which became unavailable"
   ]
  },
  {
   "cell_type": "code",
   "execution_count": 238,
   "metadata": {},
   "outputs": [
    {
     "data": {
      "text/plain": [
       "{b'Menu_ID': b'18',\n",
       " b'Menu_Name': b'Pizza mushroom',\n",
       " b'Category': b'MAINS',\n",
       " b'Price': b'18.0',\n",
       " b'Status': b'Unavailable'}"
      ]
     },
     "execution_count": 238,
     "metadata": {},
     "output_type": "execute_result"
    }
   ],
   "source": [
    "r.hgetall('18') # Read the menu item again after making it unavailable "
   ]
  },
  {
   "cell_type": "code",
   "execution_count": 239,
   "metadata": {},
   "outputs": [
    {
     "data": {
      "text/plain": [
       "{b'Menu_ID': b'29',\n",
       " b'Menu_Name': b'Chicken Nuggets',\n",
       " b'Category': b'SIDES',\n",
       " b'Price': b'5.5',\n",
       " b'Status': b'Available'}"
      ]
     },
     "execution_count": 239,
     "metadata": {},
     "output_type": "execute_result"
    }
   ],
   "source": [
    "r.hgetall('29') "
   ]
  },
  {
   "cell_type": "markdown",
   "metadata": {},
   "source": [
    "## Delete Operation in Redis"
   ]
  },
  {
   "cell_type": "code",
   "execution_count": 240,
   "metadata": {},
   "outputs": [
    {
     "data": {
      "text/plain": [
       "1"
      ]
     },
     "execution_count": 240,
     "metadata": {},
     "output_type": "execute_result"
    }
   ],
   "source": [
    "delete_menu = 29\n",
    "r.delete(delete_menu)# Deleting the data from the menu Item as the organization thought of not selling the item again."
   ]
  },
  {
   "cell_type": "code",
   "execution_count": 241,
   "metadata": {},
   "outputs": [
    {
     "data": {
      "text/plain": [
       "{}"
      ]
     },
     "execution_count": 241,
     "metadata": {},
     "output_type": "execute_result"
    }
   ],
   "source": [
    "r.hgetall('29')"
   ]
  },
  {
   "cell_type": "code",
   "execution_count": null,
   "metadata": {},
   "outputs": [],
   "source": []
  },
  {
   "cell_type": "markdown",
   "metadata": {},
   "source": [
    "### Polyglot Persistence"
   ]
  },
  {
   "cell_type": "code",
   "execution_count": 242,
   "metadata": {},
   "outputs": [],
   "source": [
    "# Check the product avalability \n",
    "def menu_availability(m_id):\n",
    "    q = 'select Status from menu where menu_id=?'\n",
    "    re = cursr.execute(q,(m_id,)).fetchall()\n",
    "    print(re[0][0])\n",
    "    if re[0][0]=='Available':\n",
    "        return True\n",
    "    else:\n",
    "        return False"
   ]
  },
  {
   "cell_type": "code",
   "execution_count": 243,
   "metadata": {},
   "outputs": [
    {
     "name": "stdout",
     "output_type": "stream",
     "text": [
      "Available\n"
     ]
    },
    {
     "data": {
      "text/plain": [
       "True"
      ]
     },
     "execution_count": 243,
     "metadata": {},
     "output_type": "execute_result"
    }
   ],
   "source": [
    "menu_availability(24)"
   ]
  },
  {
   "cell_type": "code",
   "execution_count": 244,
   "metadata": {},
   "outputs": [],
   "source": [
    "# Update function\n",
    "\n",
    "def update_status_1(men_id):\n",
    "    q = 'update menu set Status=\"Unavailable\" where menu_id=?'\n",
    "    cursr.execute(q,(men_id,))\n",
    "    conn.commit()\n",
    "    \n",
    "    #reddis\n",
    "    r.hset(men_id,\"Status\", \"Unavailable\")\n",
    "\n",
    "def update_status_2(men_id):\n",
    "    q = 'update menu set Status=\"Available\" where menu_id=?'\n",
    "    cursr.execute(q,(men_id,))\n",
    "    conn.commit()\n",
    "    \n",
    "    #reddis\n",
    "    r.hset(men_id,\"Status\", \"Available\")\n",
    "    "
   ]
  },
  {
   "cell_type": "code",
   "execution_count": 245,
   "metadata": {},
   "outputs": [],
   "source": [
    "def update_menu():\n",
    "    menu_id = input('Enter the menu ID = ')\n",
    "    if menu_availability(menu_id)==True:\n",
    "        update_status_1(menu_id)\n",
    "        print('Menu is Unavailable Now')\n",
    "    elif menu_availability(menu_id)==False: \n",
    "        update_status_2(menu_id)\n",
    "        print('Menu made Available')"
   ]
  },
  {
   "cell_type": "code",
   "execution_count": 246,
   "metadata": {},
   "outputs": [
    {
     "name": "stdout",
     "output_type": "stream",
     "text": [
      "Available\n",
      "{b'Menu_ID': b'24', b'Menu_Name': b'Lemonade', b'Category': b'DRINKS', b'Price': b'5.5', b'Status': b'Available'}\n"
     ]
    }
   ],
   "source": [
    "menu_availability(24) # SQL status\n",
    "print(r.hgetall(\"24\")) # redis status"
   ]
  },
  {
   "cell_type": "code",
   "execution_count": 247,
   "metadata": {},
   "outputs": [
    {
     "name": "stdout",
     "output_type": "stream",
     "text": [
      "Enter the menu ID = 24\n",
      "Available\n",
      "Menu is Unavailable Now\n"
     ]
    }
   ],
   "source": [
    "update_menu()"
   ]
  },
  {
   "cell_type": "code",
   "execution_count": 248,
   "metadata": {},
   "outputs": [
    {
     "name": "stdout",
     "output_type": "stream",
     "text": [
      "Unavailable\n",
      "{b'Menu_ID': b'24', b'Menu_Name': b'Lemonade', b'Category': b'DRINKS', b'Price': b'5.5', b'Status': b'Unavailable'}\n"
     ]
    }
   ],
   "source": [
    "menu_availability(24) # SQL status\n",
    "print(r.hgetall(\"24\")) # redis status"
   ]
  },
  {
   "cell_type": "code",
   "execution_count": null,
   "metadata": {},
   "outputs": [],
   "source": []
  }
 ],
 "metadata": {
  "kernelspec": {
   "display_name": "Python 3",
   "language": "python",
   "name": "python3"
  },
  "language_info": {
   "codemirror_mode": {
    "name": "ipython",
    "version": 3
   },
   "file_extension": ".py",
   "mimetype": "text/x-python",
   "name": "python",
   "nbconvert_exporter": "python",
   "pygments_lexer": "ipython3",
   "version": "3.8.5"
  }
 },
 "nbformat": 4,
 "nbformat_minor": 4
}
